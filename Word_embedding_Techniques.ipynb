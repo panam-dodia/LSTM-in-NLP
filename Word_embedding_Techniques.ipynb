{
  "nbformat": 4,
  "nbformat_minor": 0,
  "metadata": {
    "colab": {
      "provenance": []
    },
    "kernelspec": {
      "name": "python3",
      "display_name": "Python 3"
    },
    "language_info": {
      "name": "python"
    }
  },
  "cells": [
    {
      "cell_type": "markdown",
      "source": [
        "# Word Embedding Techniques using Embedding Layer in Keras"
      ],
      "metadata": {
        "id": "OxD9M3VyaI0I"
      }
    },
    {
      "cell_type": "code",
      "execution_count": 1,
      "metadata": {
        "id": "a5bl5yGmAqJR",
        "colab": {
          "base_uri": "https://localhost:8080/"
        },
        "outputId": "7e631730-43ac-4c72-face-4eaa6dbe26e5"
      },
      "outputs": [
        {
          "output_type": "stream",
          "name": "stdout",
          "text": [
            "Requirement already satisfied: tensorflow in /usr/local/lib/python3.10/dist-packages (2.17.1)\n",
            "Requirement already satisfied: absl-py>=1.0.0 in /usr/local/lib/python3.10/dist-packages (from tensorflow) (1.4.0)\n",
            "Requirement already satisfied: astunparse>=1.6.0 in /usr/local/lib/python3.10/dist-packages (from tensorflow) (1.6.3)\n",
            "Requirement already satisfied: flatbuffers>=24.3.25 in /usr/local/lib/python3.10/dist-packages (from tensorflow) (24.3.25)\n",
            "Requirement already satisfied: gast!=0.5.0,!=0.5.1,!=0.5.2,>=0.2.1 in /usr/local/lib/python3.10/dist-packages (from tensorflow) (0.6.0)\n",
            "Requirement already satisfied: google-pasta>=0.1.1 in /usr/local/lib/python3.10/dist-packages (from tensorflow) (0.2.0)\n",
            "Requirement already satisfied: h5py>=3.10.0 in /usr/local/lib/python3.10/dist-packages (from tensorflow) (3.12.1)\n",
            "Requirement already satisfied: libclang>=13.0.0 in /usr/local/lib/python3.10/dist-packages (from tensorflow) (18.1.1)\n",
            "Requirement already satisfied: ml-dtypes<0.5.0,>=0.3.1 in /usr/local/lib/python3.10/dist-packages (from tensorflow) (0.4.1)\n",
            "Requirement already satisfied: opt-einsum>=2.3.2 in /usr/local/lib/python3.10/dist-packages (from tensorflow) (3.4.0)\n",
            "Requirement already satisfied: packaging in /usr/local/lib/python3.10/dist-packages (from tensorflow) (24.2)\n",
            "Requirement already satisfied: protobuf!=4.21.0,!=4.21.1,!=4.21.2,!=4.21.3,!=4.21.4,!=4.21.5,<5.0.0dev,>=3.20.3 in /usr/local/lib/python3.10/dist-packages (from tensorflow) (4.25.5)\n",
            "Requirement already satisfied: requests<3,>=2.21.0 in /usr/local/lib/python3.10/dist-packages (from tensorflow) (2.32.3)\n",
            "Requirement already satisfied: setuptools in /usr/local/lib/python3.10/dist-packages (from tensorflow) (75.1.0)\n",
            "Requirement already satisfied: six>=1.12.0 in /usr/local/lib/python3.10/dist-packages (from tensorflow) (1.17.0)\n",
            "Requirement already satisfied: termcolor>=1.1.0 in /usr/local/lib/python3.10/dist-packages (from tensorflow) (2.5.0)\n",
            "Requirement already satisfied: typing-extensions>=3.6.6 in /usr/local/lib/python3.10/dist-packages (from tensorflow) (4.12.2)\n",
            "Requirement already satisfied: wrapt>=1.11.0 in /usr/local/lib/python3.10/dist-packages (from tensorflow) (1.17.0)\n",
            "Requirement already satisfied: grpcio<2.0,>=1.24.3 in /usr/local/lib/python3.10/dist-packages (from tensorflow) (1.68.1)\n",
            "Requirement already satisfied: tensorboard<2.18,>=2.17 in /usr/local/lib/python3.10/dist-packages (from tensorflow) (2.17.1)\n",
            "Requirement already satisfied: keras>=3.2.0 in /usr/local/lib/python3.10/dist-packages (from tensorflow) (3.5.0)\n",
            "Requirement already satisfied: tensorflow-io-gcs-filesystem>=0.23.1 in /usr/local/lib/python3.10/dist-packages (from tensorflow) (0.37.1)\n",
            "Requirement already satisfied: numpy<2.0.0,>=1.23.5 in /usr/local/lib/python3.10/dist-packages (from tensorflow) (1.26.4)\n",
            "Requirement already satisfied: wheel<1.0,>=0.23.0 in /usr/local/lib/python3.10/dist-packages (from astunparse>=1.6.0->tensorflow) (0.45.1)\n",
            "Requirement already satisfied: rich in /usr/local/lib/python3.10/dist-packages (from keras>=3.2.0->tensorflow) (13.9.4)\n",
            "Requirement already satisfied: namex in /usr/local/lib/python3.10/dist-packages (from keras>=3.2.0->tensorflow) (0.0.8)\n",
            "Requirement already satisfied: optree in /usr/local/lib/python3.10/dist-packages (from keras>=3.2.0->tensorflow) (0.13.1)\n",
            "Requirement already satisfied: charset-normalizer<4,>=2 in /usr/local/lib/python3.10/dist-packages (from requests<3,>=2.21.0->tensorflow) (3.4.0)\n",
            "Requirement already satisfied: idna<4,>=2.5 in /usr/local/lib/python3.10/dist-packages (from requests<3,>=2.21.0->tensorflow) (3.10)\n",
            "Requirement already satisfied: urllib3<3,>=1.21.1 in /usr/local/lib/python3.10/dist-packages (from requests<3,>=2.21.0->tensorflow) (2.2.3)\n",
            "Requirement already satisfied: certifi>=2017.4.17 in /usr/local/lib/python3.10/dist-packages (from requests<3,>=2.21.0->tensorflow) (2024.12.14)\n",
            "Requirement already satisfied: markdown>=2.6.8 in /usr/local/lib/python3.10/dist-packages (from tensorboard<2.18,>=2.17->tensorflow) (3.7)\n",
            "Requirement already satisfied: tensorboard-data-server<0.8.0,>=0.7.0 in /usr/local/lib/python3.10/dist-packages (from tensorboard<2.18,>=2.17->tensorflow) (0.7.2)\n",
            "Requirement already satisfied: werkzeug>=1.0.1 in /usr/local/lib/python3.10/dist-packages (from tensorboard<2.18,>=2.17->tensorflow) (3.1.3)\n",
            "Requirement already satisfied: MarkupSafe>=2.1.1 in /usr/local/lib/python3.10/dist-packages (from werkzeug>=1.0.1->tensorboard<2.18,>=2.17->tensorflow) (3.0.2)\n",
            "Requirement already satisfied: markdown-it-py>=2.2.0 in /usr/local/lib/python3.10/dist-packages (from rich->keras>=3.2.0->tensorflow) (3.0.0)\n",
            "Requirement already satisfied: pygments<3.0.0,>=2.13.0 in /usr/local/lib/python3.10/dist-packages (from rich->keras>=3.2.0->tensorflow) (2.18.0)\n",
            "Requirement already satisfied: mdurl~=0.1 in /usr/local/lib/python3.10/dist-packages (from markdown-it-py>=2.2.0->rich->keras>=3.2.0->tensorflow) (0.1.2)\n"
          ]
        }
      ],
      "source": [
        "!pip install tensorflow"
      ]
    },
    {
      "cell_type": "code",
      "source": [
        "from tensorflow.keras.preprocessing.text import one_hot"
      ],
      "metadata": {
        "id": "TedfKRLFaeHE"
      },
      "execution_count": 2,
      "outputs": []
    },
    {
      "cell_type": "code",
      "source": [
        "# Sentences\n",
        "\n",
        "sent = [\"The world is a better place\",\n",
        "      \"Marvel series is my favourite movie\",\n",
        "      \"I like DC movies\",\n",
        "      \"the cat is eating the food\",\n",
        "      \"Tom and Jerry is my favourite movie\",\n",
        "      \"Python is my favourite programming language\"]"
      ],
      "metadata": {
        "id": "ZTWDEimIanTa"
      },
      "execution_count": 3,
      "outputs": []
    },
    {
      "cell_type": "code",
      "source": [
        "sent"
      ],
      "metadata": {
        "colab": {
          "base_uri": "https://localhost:8080/"
        },
        "id": "RWHagp5pa4gA",
        "outputId": "e68d1faf-7a92-4912-e6ea-9db97d076f98"
      },
      "execution_count": 4,
      "outputs": [
        {
          "output_type": "execute_result",
          "data": {
            "text/plain": [
              "['The world is a better place',\n",
              " 'Marvel series is my favourite movie',\n",
              " 'I like DC movies',\n",
              " 'the cat is eating the food',\n",
              " 'Tom and Jerry is my favourite movie',\n",
              " 'Python is my favourite programming language']"
            ]
          },
          "metadata": {},
          "execution_count": 4
        }
      ]
    },
    {
      "cell_type": "code",
      "source": [
        "# Vocabulary size\n",
        "\n",
        "voc_size = 10000"
      ],
      "metadata": {
        "id": "LXQoaaVDa55W"
      },
      "execution_count": 5,
      "outputs": []
    },
    {
      "cell_type": "markdown",
      "source": [
        "# One Hot Representation"
      ],
      "metadata": {
        "id": "lwec4W7-bDFR"
      }
    },
    {
      "cell_type": "code",
      "source": [
        "onehot_repr = [one_hot(words, voc_size) for words in sent]\n",
        "\n",
        "print(onehot_repr)"
      ],
      "metadata": {
        "colab": {
          "base_uri": "https://localhost:8080/"
        },
        "id": "A2sbF9e6bCY7",
        "outputId": "5d7a53c1-fe09-409b-c5cc-12a6bb39f2d3"
      },
      "execution_count": 6,
      "outputs": [
        {
          "output_type": "stream",
          "name": "stdout",
          "text": [
            "[[345, 7757, 5678, 194, 7500, 9774], [515, 7641, 5678, 6003, 7797, 7658], [3390, 2732, 3536, 2092], [345, 4081, 5678, 6634, 345, 9610], [1057, 6191, 954, 5678, 6003, 7797, 7658], [7248, 5678, 6003, 7797, 1221, 5740]]\n"
          ]
        }
      ]
    },
    {
      "cell_type": "markdown",
      "source": [
        "# Word Embedding Representation"
      ],
      "metadata": {
        "id": "gt8m2yGVbaM3"
      }
    },
    {
      "cell_type": "code",
      "source": [
        "from tensorflow.keras.layers import Embedding\n",
        "from tensorflow.keras.preprocessing.sequence import pad_sequences\n",
        "from tensorflow.keras.models import Sequential\n",
        "\n",
        "import numpy as np"
      ],
      "metadata": {
        "id": "OcS6TxFQbVZZ"
      },
      "execution_count": 7,
      "outputs": []
    },
    {
      "cell_type": "code",
      "source": [
        "# pre padding\n",
        "\n",
        "sent_length = 8\n",
        "\n",
        "embedded_docs = pad_sequences(onehot_repr, padding='pre', maxlen=sent_length)\n",
        "\n",
        "print(embedded_docs)"
      ],
      "metadata": {
        "colab": {
          "base_uri": "https://localhost:8080/"
        },
        "id": "BUgt_Lbxb06Y",
        "outputId": "41e9fb1c-667d-4b21-da3b-e7862a3928de"
      },
      "execution_count": 8,
      "outputs": [
        {
          "output_type": "stream",
          "name": "stdout",
          "text": [
            "[[   0    0  345 7757 5678  194 7500 9774]\n",
            " [   0    0  515 7641 5678 6003 7797 7658]\n",
            " [   0    0    0    0 3390 2732 3536 2092]\n",
            " [   0    0  345 4081 5678 6634  345 9610]\n",
            " [   0 1057 6191  954 5678 6003 7797 7658]\n",
            " [   0    0 7248 5678 6003 7797 1221 5740]]\n"
          ]
        }
      ]
    },
    {
      "cell_type": "code",
      "source": [
        "dim = 10"
      ],
      "metadata": {
        "id": "jcSHQ0mfcys4"
      },
      "execution_count": 9,
      "outputs": []
    },
    {
      "cell_type": "code",
      "source": [
        "model = Sequential()\n",
        "model.add(Embedding(voc_size, 10, input_length = sent_length))\n",
        "model.compile('adam', 'mse')"
      ],
      "metadata": {
        "colab": {
          "base_uri": "https://localhost:8080/"
        },
        "id": "O9OHQ1lOc1Gd",
        "outputId": "44cd17a0-353f-42e4-9f2e-4d0570e23a71"
      },
      "execution_count": 10,
      "outputs": [
        {
          "output_type": "stream",
          "name": "stderr",
          "text": [
            "/usr/local/lib/python3.10/dist-packages/keras/src/layers/core/embedding.py:90: UserWarning: Argument `input_length` is deprecated. Just remove it.\n",
            "  warnings.warn(\n"
          ]
        }
      ]
    },
    {
      "cell_type": "code",
      "source": [
        "model.summary()"
      ],
      "metadata": {
        "colab": {
          "base_uri": "https://localhost:8080/",
          "height": 161
        },
        "id": "nfolC66Lc6Dk",
        "outputId": "0e04058d-260c-4d64-d52b-02e467c6c20e"
      },
      "execution_count": 11,
      "outputs": [
        {
          "output_type": "display_data",
          "data": {
            "text/plain": [
              "\u001b[1mModel: \"sequential\"\u001b[0m\n"
            ],
            "text/html": [
              "<pre style=\"white-space:pre;overflow-x:auto;line-height:normal;font-family:Menlo,'DejaVu Sans Mono',consolas,'Courier New',monospace\"><span style=\"font-weight: bold\">Model: \"sequential\"</span>\n",
              "</pre>\n"
            ]
          },
          "metadata": {}
        },
        {
          "output_type": "display_data",
          "data": {
            "text/plain": [
              "┏━━━━━━━━━━━━━━━━━━━━━━━━━━━━━━━━━━━━━━┳━━━━━━━━━━━━━━━━━━━━━━━━━━━━━┳━━━━━━━━━━━━━━━━━┓\n",
              "┃\u001b[1m \u001b[0m\u001b[1mLayer (type)                        \u001b[0m\u001b[1m \u001b[0m┃\u001b[1m \u001b[0m\u001b[1mOutput Shape               \u001b[0m\u001b[1m \u001b[0m┃\u001b[1m \u001b[0m\u001b[1m        Param #\u001b[0m\u001b[1m \u001b[0m┃\n",
              "┡━━━━━━━━━━━━━━━━━━━━━━━━━━━━━━━━━━━━━━╇━━━━━━━━━━━━━━━━━━━━━━━━━━━━━╇━━━━━━━━━━━━━━━━━┩\n",
              "│ embedding (\u001b[38;5;33mEmbedding\u001b[0m)                │ ?                           │     \u001b[38;5;34m0\u001b[0m (unbuilt) │\n",
              "└──────────────────────────────────────┴─────────────────────────────┴─────────────────┘\n"
            ],
            "text/html": [
              "<pre style=\"white-space:pre;overflow-x:auto;line-height:normal;font-family:Menlo,'DejaVu Sans Mono',consolas,'Courier New',monospace\">┏━━━━━━━━━━━━━━━━━━━━━━━━━━━━━━━━━━━━━━┳━━━━━━━━━━━━━━━━━━━━━━━━━━━━━┳━━━━━━━━━━━━━━━━━┓\n",
              "┃<span style=\"font-weight: bold\"> Layer (type)                         </span>┃<span style=\"font-weight: bold\"> Output Shape                </span>┃<span style=\"font-weight: bold\">         Param # </span>┃\n",
              "┡━━━━━━━━━━━━━━━━━━━━━━━━━━━━━━━━━━━━━━╇━━━━━━━━━━━━━━━━━━━━━━━━━━━━━╇━━━━━━━━━━━━━━━━━┩\n",
              "│ embedding (<span style=\"color: #0087ff; text-decoration-color: #0087ff\">Embedding</span>)                │ ?                           │     <span style=\"color: #00af00; text-decoration-color: #00af00\">0</span> (unbuilt) │\n",
              "└──────────────────────────────────────┴─────────────────────────────┴─────────────────┘\n",
              "</pre>\n"
            ]
          },
          "metadata": {}
        },
        {
          "output_type": "display_data",
          "data": {
            "text/plain": [
              "\u001b[1m Total params: \u001b[0m\u001b[38;5;34m0\u001b[0m (0.00 B)\n"
            ],
            "text/html": [
              "<pre style=\"white-space:pre;overflow-x:auto;line-height:normal;font-family:Menlo,'DejaVu Sans Mono',consolas,'Courier New',monospace\"><span style=\"font-weight: bold\"> Total params: </span><span style=\"color: #00af00; text-decoration-color: #00af00\">0</span> (0.00 B)\n",
              "</pre>\n"
            ]
          },
          "metadata": {}
        },
        {
          "output_type": "display_data",
          "data": {
            "text/plain": [
              "\u001b[1m Trainable params: \u001b[0m\u001b[38;5;34m0\u001b[0m (0.00 B)\n"
            ],
            "text/html": [
              "<pre style=\"white-space:pre;overflow-x:auto;line-height:normal;font-family:Menlo,'DejaVu Sans Mono',consolas,'Courier New',monospace\"><span style=\"font-weight: bold\"> Trainable params: </span><span style=\"color: #00af00; text-decoration-color: #00af00\">0</span> (0.00 B)\n",
              "</pre>\n"
            ]
          },
          "metadata": {}
        },
        {
          "output_type": "display_data",
          "data": {
            "text/plain": [
              "\u001b[1m Non-trainable params: \u001b[0m\u001b[38;5;34m0\u001b[0m (0.00 B)\n"
            ],
            "text/html": [
              "<pre style=\"white-space:pre;overflow-x:auto;line-height:normal;font-family:Menlo,'DejaVu Sans Mono',consolas,'Courier New',monospace\"><span style=\"font-weight: bold\"> Non-trainable params: </span><span style=\"color: #00af00; text-decoration-color: #00af00\">0</span> (0.00 B)\n",
              "</pre>\n"
            ]
          },
          "metadata": {}
        }
      ]
    },
    {
      "cell_type": "code",
      "source": [
        "print(model.predict(embedded_docs))"
      ],
      "metadata": {
        "colab": {
          "base_uri": "https://localhost:8080/"
        },
        "id": "MdA0uwKidm75",
        "outputId": "6d8163dd-318a-45c7-d49a-1181ffaddad3"
      },
      "execution_count": 12,
      "outputs": [
        {
          "output_type": "stream",
          "name": "stdout",
          "text": [
            "\u001b[1m1/1\u001b[0m \u001b[32m━━━━━━━━━━━━━━━━━━━━\u001b[0m\u001b[37m\u001b[0m \u001b[1m0s\u001b[0m 197ms/step\n",
            "[[[ 0.02684449  0.04841875  0.01323238 -0.03764128 -0.04895658\n",
            "    0.02481129 -0.00081769 -0.00444959 -0.02256937  0.03020643]\n",
            "  [ 0.02684449  0.04841875  0.01323238 -0.03764128 -0.04895658\n",
            "    0.02481129 -0.00081769 -0.00444959 -0.02256937  0.03020643]\n",
            "  [ 0.04368674 -0.00066308  0.03810689 -0.02846077  0.04305739\n",
            "    0.04496935  0.00130614  0.01924146  0.04987354 -0.03902163]\n",
            "  [-0.00292604 -0.02464615 -0.01720327 -0.00361962 -0.00486781\n",
            "   -0.01069207  0.03660892 -0.03931755  0.02434153  0.00751302]\n",
            "  [ 0.04370015  0.00014519 -0.04188915  0.01578971 -0.04790139\n",
            "   -0.03342431  0.0192199  -0.0204546  -0.01099417 -0.04030534]\n",
            "  [-0.04067259  0.03964863  0.02968608  0.03055347  0.01897505\n",
            "    0.00403186 -0.04217473  0.01032522 -0.03036503  0.04494753]\n",
            "  [-0.01379765  0.01909081 -0.0440014  -0.01059464  0.04555487\n",
            "   -0.00657779 -0.02150186  0.03339634  0.03568579  0.02913679]\n",
            "  [-0.01497857  0.04981879  0.0330425  -0.01718074 -0.00047215\n",
            "    0.04006251  0.01550503 -0.03531767 -0.02516094  0.00315616]]\n",
            "\n",
            " [[ 0.02684449  0.04841875  0.01323238 -0.03764128 -0.04895658\n",
            "    0.02481129 -0.00081769 -0.00444959 -0.02256937  0.03020643]\n",
            "  [ 0.02684449  0.04841875  0.01323238 -0.03764128 -0.04895658\n",
            "    0.02481129 -0.00081769 -0.00444959 -0.02256937  0.03020643]\n",
            "  [ 0.04397264 -0.03275861 -0.03365277  0.03268446 -0.01939719\n",
            "   -0.01946474  0.01622533 -0.02746459  0.0046463  -0.00917625]\n",
            "  [-0.04838631 -0.02011101 -0.0135201   0.00395498  0.01293074\n",
            "    0.0299816  -0.00435439 -0.02562069  0.03217093 -0.03678668]\n",
            "  [ 0.04370015  0.00014519 -0.04188915  0.01578971 -0.04790139\n",
            "   -0.03342431  0.0192199  -0.0204546  -0.01099417 -0.04030534]\n",
            "  [ 0.0471866   0.00256196  0.00200514 -0.01855405 -0.04971207\n",
            "    0.00183871  0.04859876 -0.03460872 -0.00680901  0.03760315]\n",
            "  [ 0.03665866 -0.02059376  0.01524755 -0.02880843 -0.04524976\n",
            "   -0.03227544 -0.00763329  0.01061428 -0.00667711  0.01337028]\n",
            "  [-0.00196285  0.00246314  0.00924443  0.00185059 -0.00996013\n",
            "   -0.03809877 -0.01007655  0.02279451 -0.04460887  0.00916673]]\n",
            "\n",
            " [[ 0.02684449  0.04841875  0.01323238 -0.03764128 -0.04895658\n",
            "    0.02481129 -0.00081769 -0.00444959 -0.02256937  0.03020643]\n",
            "  [ 0.02684449  0.04841875  0.01323238 -0.03764128 -0.04895658\n",
            "    0.02481129 -0.00081769 -0.00444959 -0.02256937  0.03020643]\n",
            "  [ 0.02684449  0.04841875  0.01323238 -0.03764128 -0.04895658\n",
            "    0.02481129 -0.00081769 -0.00444959 -0.02256937  0.03020643]\n",
            "  [ 0.02684449  0.04841875  0.01323238 -0.03764128 -0.04895658\n",
            "    0.02481129 -0.00081769 -0.00444959 -0.02256937  0.03020643]\n",
            "  [-0.00839424  0.02619486 -0.01328189 -0.03755196 -0.00285262\n",
            "   -0.02200332  0.0037146   0.00862099 -0.01180311 -0.03267526]\n",
            "  [ 0.02277901 -0.04084715  0.03393332 -0.04807284  0.02657099\n",
            "   -0.00132542  0.03483595  0.01052666  0.03851249 -0.03202166]\n",
            "  [ 0.02391073  0.01109407  0.01784997 -0.04587625  0.01045494\n",
            "    0.04099724  0.00796239 -0.0079146   0.03340666  0.03563594]\n",
            "  [ 0.00681789 -0.04898206  0.04550444  0.02371378  0.0417563\n",
            "    0.01036977  0.03771789  0.04224995  0.02370323  0.04419034]]\n",
            "\n",
            " [[ 0.02684449  0.04841875  0.01323238 -0.03764128 -0.04895658\n",
            "    0.02481129 -0.00081769 -0.00444959 -0.02256937  0.03020643]\n",
            "  [ 0.02684449  0.04841875  0.01323238 -0.03764128 -0.04895658\n",
            "    0.02481129 -0.00081769 -0.00444959 -0.02256937  0.03020643]\n",
            "  [ 0.04368674 -0.00066308  0.03810689 -0.02846077  0.04305739\n",
            "    0.04496935  0.00130614  0.01924146  0.04987354 -0.03902163]\n",
            "  [-0.04448443 -0.0034382  -0.01254652  0.00121738  0.02433437\n",
            "    0.00655575 -0.02403625 -0.01744069 -0.04628704  0.04856913]\n",
            "  [ 0.04370015  0.00014519 -0.04188915  0.01578971 -0.04790139\n",
            "   -0.03342431  0.0192199  -0.0204546  -0.01099417 -0.04030534]\n",
            "  [ 0.0485005  -0.03279468  0.02395037  0.04663327  0.01220806\n",
            "    0.02815161 -0.00817777  0.00558256 -0.0216907   0.02120669]\n",
            "  [ 0.04368674 -0.00066308  0.03810689 -0.02846077  0.04305739\n",
            "    0.04496935  0.00130614  0.01924146  0.04987354 -0.03902163]\n",
            "  [-0.03803425 -0.03295906  0.04029295 -0.02558734  0.02147442\n",
            "    0.04137143  0.02257501 -0.0314855   0.03845945 -0.00354002]]\n",
            "\n",
            " [[ 0.02684449  0.04841875  0.01323238 -0.03764128 -0.04895658\n",
            "    0.02481129 -0.00081769 -0.00444959 -0.02256937  0.03020643]\n",
            "  [ 0.00104495 -0.0123144   0.0075827  -0.04911266  0.01341042\n",
            "    0.01743997  0.02385079  0.02300194 -0.01474463  0.04602401]\n",
            "  [ 0.0229923   0.02288798 -0.03973957  0.0330264   0.00691565\n",
            "   -0.02676294  0.017921    0.00015213  0.00179809 -0.0216297 ]\n",
            "  [ 0.04670787 -0.04120188 -0.02069461  0.0106666  -0.03258617\n",
            "    0.04806645  0.01424936  0.04757415  0.04859254 -0.03280505]\n",
            "  [ 0.04370015  0.00014519 -0.04188915  0.01578971 -0.04790139\n",
            "   -0.03342431  0.0192199  -0.0204546  -0.01099417 -0.04030534]\n",
            "  [ 0.0471866   0.00256196  0.00200514 -0.01855405 -0.04971207\n",
            "    0.00183871  0.04859876 -0.03460872 -0.00680901  0.03760315]\n",
            "  [ 0.03665866 -0.02059376  0.01524755 -0.02880843 -0.04524976\n",
            "   -0.03227544 -0.00763329  0.01061428 -0.00667711  0.01337028]\n",
            "  [-0.00196285  0.00246314  0.00924443  0.00185059 -0.00996013\n",
            "   -0.03809877 -0.01007655  0.02279451 -0.04460887  0.00916673]]\n",
            "\n",
            " [[ 0.02684449  0.04841875  0.01323238 -0.03764128 -0.04895658\n",
            "    0.02481129 -0.00081769 -0.00444959 -0.02256937  0.03020643]\n",
            "  [ 0.02684449  0.04841875  0.01323238 -0.03764128 -0.04895658\n",
            "    0.02481129 -0.00081769 -0.00444959 -0.02256937  0.03020643]\n",
            "  [ 0.03640116  0.01389955 -0.03658129  0.04218395  0.04694188\n",
            "   -0.03151749 -0.02796214 -0.04477664  0.02871871  0.02652333]\n",
            "  [ 0.04370015  0.00014519 -0.04188915  0.01578971 -0.04790139\n",
            "   -0.03342431  0.0192199  -0.0204546  -0.01099417 -0.04030534]\n",
            "  [ 0.0471866   0.00256196  0.00200514 -0.01855405 -0.04971207\n",
            "    0.00183871  0.04859876 -0.03460872 -0.00680901  0.03760315]\n",
            "  [ 0.03665866 -0.02059376  0.01524755 -0.02880843 -0.04524976\n",
            "   -0.03227544 -0.00763329  0.01061428 -0.00667711  0.01337028]\n",
            "  [-0.04068096  0.01640508 -0.0316057  -0.01250071  0.00899405\n",
            "   -0.03999345 -0.01931775 -0.03954384 -0.00053138 -0.01863639]\n",
            "  [ 0.01173781 -0.04522258 -0.0370263  -0.0214098  -0.04376321\n",
            "   -0.02871873  0.02315721  0.01512213  0.01732162  0.0424191 ]]]\n"
          ]
        }
      ]
    },
    {
      "cell_type": "code",
      "source": [],
      "metadata": {
        "id": "6abvhZN_d1aj"
      },
      "execution_count": null,
      "outputs": []
    }
  ]
}